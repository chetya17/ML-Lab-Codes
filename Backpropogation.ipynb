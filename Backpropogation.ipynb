{
  "nbformat": 4,
  "nbformat_minor": 0,
  "metadata": {
    "colab": {
      "provenance": [],
      "authorship_tag": "ABX9TyOLZhQfz2pVmbt1+x9JFDum",
      "include_colab_link": true
    },
    "kernelspec": {
      "name": "python3",
      "display_name": "Python 3"
    },
    "language_info": {
      "name": "python"
    }
  },
  "cells": [
    {
      "cell_type": "markdown",
      "metadata": {
        "id": "view-in-github",
        "colab_type": "text"
      },
      "source": [
        "<a href=\"https://colab.research.google.com/github/chetya17/ML-Lab-Codes/blob/main/Backpropogation.ipynb\" target=\"_parent\"><img src=\"https://colab.research.google.com/assets/colab-badge.svg\" alt=\"Open In Colab\"/></a>"
      ]
    },
    {
      "cell_type": "code",
      "execution_count": 1,
      "metadata": {
        "id": "rFHH5bX35lsQ"
      },
      "outputs": [],
      "source": [
        "import numpy as np "
      ]
    },
    {
      "cell_type": "code",
      "source": [
        "X = np.array(([2, 9], [1, 5], [3, 6]), dtype=float)\n",
        "y = np.array(([92], [86], [89]), dtype=float)\n",
        "\n",
        "X = X/np.amax(X,axis=0) # Normalize \n",
        "y = y/100\n",
        "X"
      ],
      "metadata": {
        "colab": {
          "base_uri": "https://localhost:8080/"
        },
        "id": "ilNTxfuC6eA9",
        "outputId": "23360840-57db-44d1-fd42-38b618cad16b"
      },
      "execution_count": 2,
      "outputs": [
        {
          "output_type": "execute_result",
          "data": {
            "text/plain": [
              "array([[0.66666667, 1.        ],\n",
              "       [0.33333333, 0.55555556],\n",
              "       [1.        , 0.66666667]])"
            ]
          },
          "metadata": {},
          "execution_count": 2
        }
      ]
    },
    {
      "cell_type": "code",
      "source": [
        "y"
      ],
      "metadata": {
        "colab": {
          "base_uri": "https://localhost:8080/"
        },
        "id": "L3yIiXvu6hA8",
        "outputId": "4156fcd4-aff4-442a-b5c9-3d12f285f538"
      },
      "execution_count": 3,
      "outputs": [
        {
          "output_type": "execute_result",
          "data": {
            "text/plain": [
              "array([[0.92],\n",
              "       [0.86],\n",
              "       [0.89]])"
            ]
          },
          "metadata": {},
          "execution_count": 3
        }
      ]
    },
    {
      "cell_type": "code",
      "source": [
        "def sigmoid(x):\n",
        "    return 1/(1 + np.exp(-x))\n",
        "def sigmoid_grad(x):\n",
        "    return x * (1 - x)\n"
      ],
      "metadata": {
        "id": "SZ67uYvC6jeP"
      },
      "execution_count": 4,
      "outputs": []
    },
    {
      "cell_type": "code",
      "source": [
        "# Variable initialization\n",
        "epoch=1000\n",
        "eta =0.2\n",
        "input_neurons = 2\n",
        "hidden_neurons = 3\n",
        "output_neurons = 1"
      ],
      "metadata": {
        "id": "FBA9khG56j-9"
      },
      "execution_count": 5,
      "outputs": []
    },
    {
      "cell_type": "code",
      "source": [
        "wh=np.random.uniform(size=(input_neurons,hidden_neurons))\t# 2x3 \n",
        "bh=np.random.uniform(size=(1,hidden_neurons))\t# 1x3 \n",
        "wout=np.random.uniform(size=(hidden_neurons,output_neurons)) # 1x1 \n",
        "bout=np.random.uniform(size=(1,output_neurons))"
      ],
      "metadata": {
        "id": "H03QZGJB6mx1"
      },
      "execution_count": 6,
      "outputs": []
    },
    {
      "cell_type": "code",
      "source": [
        "for i in range(epoch):\n",
        "    h_ip=np.dot(X,wh) + bh \n",
        "    h_act = sigmoid(h_ip) \n",
        "    o_ip=np.dot(h_act,wout) + bout\n",
        "    output = sigmoid(o_ip)\n",
        "    \n",
        "    Eo = y-output \n",
        "    outgrad = sigmoid_grad(output)\n",
        "    d_output = Eo* outgrad\n",
        "    \n",
        "    Eh = d_output.dot(wout.T)\n",
        "    hiddengrad = sigmoid_grad(h_act) \n",
        "    d_hidden = Eh * hiddengrad\n",
        "    \n",
        "    wout += h_act.T.dot(d_output) *eta \n",
        "    wh += X.T.dot(d_output) *eta\n",
        "    "
      ],
      "metadata": {
        "id": "YpKUgN2g6oPw"
      },
      "execution_count": 7,
      "outputs": []
    },
    {
      "cell_type": "code",
      "source": [
        "print(\"Normalized Input: \\n\" + str(X))\n",
        "print(\"Actual Output: \\n\" + str(y))\n",
        "print(\"Predicted Output: \\n\" ,output)"
      ],
      "metadata": {
        "colab": {
          "base_uri": "https://localhost:8080/"
        },
        "id": "4NbwMq6E6qaK",
        "outputId": "c57db20b-78c1-4091-b5fc-c854c6ee0213"
      },
      "execution_count": 8,
      "outputs": [
        {
          "output_type": "stream",
          "name": "stdout",
          "text": [
            "Normalized Input: \n",
            "[[0.66666667 1.        ]\n",
            " [0.33333333 0.55555556]\n",
            " [1.         0.66666667]]\n",
            "Actual Output: \n",
            "[[0.92]\n",
            " [0.86]\n",
            " [0.89]]\n",
            "Predicted Output: \n",
            " [[0.89768991]\n",
            " [0.87701894]\n",
            " [0.89502646]]\n"
          ]
        }
      ]
    }
  ]
}