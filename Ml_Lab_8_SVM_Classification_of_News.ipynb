{
  "nbformat": 4,
  "nbformat_minor": 0,
  "metadata": {
    "colab": {
      "provenance": [],
      "authorship_tag": "ABX9TyPvwkUqmG3E8TyFCjmC1s1N",
      "include_colab_link": true
    },
    "kernelspec": {
      "name": "python3",
      "display_name": "Python 3"
    },
    "language_info": {
      "name": "python"
    }
  },
  "cells": [
    {
      "cell_type": "markdown",
      "metadata": {
        "id": "view-in-github",
        "colab_type": "text"
      },
      "source": [
        "<a href=\"https://colab.research.google.com/github/chetya17/ML-Lab-Codes/blob/main/Ml_Lab_8_SVM_Classification_of_News.ipynb\" target=\"_parent\"><img src=\"https://colab.research.google.com/assets/colab-badge.svg\" alt=\"Open In Colab\"/></a>"
      ]
    },
    {
      "cell_type": "code",
      "execution_count": 86,
      "metadata": {
        "colab": {
          "base_uri": "https://localhost:8080/"
        },
        "id": "pqDnJIfM9M7d",
        "outputId": "ef1ec9de-e04f-416b-8e26-7fb109e8d6eb"
      },
      "outputs": [
        {
          "output_type": "stream",
          "name": "stderr",
          "text": [
            "[nltk_data] Downloading package stopwords to /root/nltk_data...\n",
            "[nltk_data]   Package stopwords is already up-to-date!\n",
            "[nltk_data] Downloading package wordnet to /root/nltk_data...\n",
            "[nltk_data]   Package wordnet is already up-to-date!\n",
            "[nltk_data] Downloading package punkt to /root/nltk_data...\n",
            "[nltk_data]   Package punkt is already up-to-date!\n"
          ]
        }
      ],
      "source": [
        "import pandas as pd\n",
        "import numpy as np\n",
        "import matplotlib.pyplot as plt\n",
        "import seaborn as sns\n",
        "import re\n",
        "import nltk\n",
        "from nltk.corpus import stopwords\n",
        "nltk.download('stopwords')\n",
        "from nltk.stem import PorterStemmer\n",
        "from nltk.stem import WordNetLemmatizer\n",
        "nltk.download('wordnet')\n",
        "from nltk.tokenize import word_tokenize\n",
        "from nltk.tokenize import sent_tokenize\n",
        "nltk.download('punkt')\n",
        "from wordcloud import WordCloud\n",
        "from sklearn.feature_extraction.text import CountVectorizer\n",
        "from sklearn.feature_extraction.text import TfidfVectorizer\n",
        "from sklearn.model_selection import train_test_split\n",
        "from sklearn.metrics import accuracy_score\n",
        "from sklearn.metrics import confusion_matrix\n",
        "from sklearn.metrics import classification_report\n",
        "from sklearn.metrics import make_scorer, roc_curve, roc_auc_score\n",
        "from sklearn.metrics import precision_recall_fscore_support as score\n",
        "from sklearn.metrics.pairwise import cosine_similarity\n",
        "from sklearn.multiclass import OneVsRestClassifier\n",
        "from sklearn.linear_model import LogisticRegression\n",
        "from sklearn.svm import SVC, LinearSVC\n",
        "from sklearn.tree import DecisionTreeClassifier\n",
        "from sklearn.ensemble import RandomForestClassifier\n",
        "from sklearn.neighbors import KNeighborsClassifier\n",
        "from sklearn.naive_bayes import GaussianNB,MultinomialNB,BernoulliNB"
      ]
    },
    {
      "cell_type": "code",
      "source": [
        "dataset = pd.read_csv(\"BBC News Train.csv\")\n",
        "print(dataset.head())"
      ],
      "metadata": {
        "colab": {
          "base_uri": "https://localhost:8080/"
        },
        "id": "vDk1ReyQ9Vxm",
        "outputId": "9224c87e-0570-4878-b491-d4f982e0b9a1"
      },
      "execution_count": 87,
      "outputs": [
        {
          "output_type": "stream",
          "name": "stdout",
          "text": [
            "   ArticleId                                               Text  Category\n",
            "0       1833  worldcom ex-boss launches defence lawyers defe...  business\n",
            "1        154  german business confidence slides german busin...  business\n",
            "2       1101  bbc poll indicates economic gloom citizens in ...  business\n",
            "3       1976  lifestyle  governs mobile choice  faster  bett...      tech\n",
            "4        917  enron bosses in $168m payout eighteen former e...  business\n"
          ]
        }
      ]
    },
    {
      "cell_type": "code",
      "source": [
        "target_category = dataset['Category'].unique()\n",
        "print(target_category)\n"
      ],
      "metadata": {
        "colab": {
          "base_uri": "https://localhost:8080/"
        },
        "id": "4cUE3sOECx_E",
        "outputId": "0a0a341f-0e92-440b-940f-653969758402"
      },
      "execution_count": 88,
      "outputs": [
        {
          "output_type": "stream",
          "name": "stdout",
          "text": [
            "['business' 'tech' 'politics' 'sport' 'entertainment']\n"
          ]
        }
      ]
    },
    {
      "cell_type": "code",
      "source": [
        "dataset['CategoryId'] = dataset['Category'].factorize()[0]\n",
        "dataset.head()"
      ],
      "metadata": {
        "colab": {
          "base_uri": "https://localhost:8080/",
          "height": 206
        },
        "id": "Fp0lw64wCzv0",
        "outputId": "aa8e9f8e-5acb-44f7-e355-7d4c73377ba3"
      },
      "execution_count": 89,
      "outputs": [
        {
          "output_type": "execute_result",
          "data": {
            "text/plain": [
              "   ArticleId                                               Text  Category  \\\n",
              "0       1833  worldcom ex-boss launches defence lawyers defe...  business   \n",
              "1        154  german business confidence slides german busin...  business   \n",
              "2       1101  bbc poll indicates economic gloom citizens in ...  business   \n",
              "3       1976  lifestyle  governs mobile choice  faster  bett...      tech   \n",
              "4        917  enron bosses in $168m payout eighteen former e...  business   \n",
              "\n",
              "   CategoryId  \n",
              "0           0  \n",
              "1           0  \n",
              "2           0  \n",
              "3           1  \n",
              "4           0  "
            ],
            "text/html": [
              "\n",
              "  <div id=\"df-068432dc-c14e-4b39-995b-90210958dce2\">\n",
              "    <div class=\"colab-df-container\">\n",
              "      <div>\n",
              "<style scoped>\n",
              "    .dataframe tbody tr th:only-of-type {\n",
              "        vertical-align: middle;\n",
              "    }\n",
              "\n",
              "    .dataframe tbody tr th {\n",
              "        vertical-align: top;\n",
              "    }\n",
              "\n",
              "    .dataframe thead th {\n",
              "        text-align: right;\n",
              "    }\n",
              "</style>\n",
              "<table border=\"1\" class=\"dataframe\">\n",
              "  <thead>\n",
              "    <tr style=\"text-align: right;\">\n",
              "      <th></th>\n",
              "      <th>ArticleId</th>\n",
              "      <th>Text</th>\n",
              "      <th>Category</th>\n",
              "      <th>CategoryId</th>\n",
              "    </tr>\n",
              "  </thead>\n",
              "  <tbody>\n",
              "    <tr>\n",
              "      <th>0</th>\n",
              "      <td>1833</td>\n",
              "      <td>worldcom ex-boss launches defence lawyers defe...</td>\n",
              "      <td>business</td>\n",
              "      <td>0</td>\n",
              "    </tr>\n",
              "    <tr>\n",
              "      <th>1</th>\n",
              "      <td>154</td>\n",
              "      <td>german business confidence slides german busin...</td>\n",
              "      <td>business</td>\n",
              "      <td>0</td>\n",
              "    </tr>\n",
              "    <tr>\n",
              "      <th>2</th>\n",
              "      <td>1101</td>\n",
              "      <td>bbc poll indicates economic gloom citizens in ...</td>\n",
              "      <td>business</td>\n",
              "      <td>0</td>\n",
              "    </tr>\n",
              "    <tr>\n",
              "      <th>3</th>\n",
              "      <td>1976</td>\n",
              "      <td>lifestyle  governs mobile choice  faster  bett...</td>\n",
              "      <td>tech</td>\n",
              "      <td>1</td>\n",
              "    </tr>\n",
              "    <tr>\n",
              "      <th>4</th>\n",
              "      <td>917</td>\n",
              "      <td>enron bosses in $168m payout eighteen former e...</td>\n",
              "      <td>business</td>\n",
              "      <td>0</td>\n",
              "    </tr>\n",
              "  </tbody>\n",
              "</table>\n",
              "</div>\n",
              "      <button class=\"colab-df-convert\" onclick=\"convertToInteractive('df-068432dc-c14e-4b39-995b-90210958dce2')\"\n",
              "              title=\"Convert this dataframe to an interactive table.\"\n",
              "              style=\"display:none;\">\n",
              "        \n",
              "  <svg xmlns=\"http://www.w3.org/2000/svg\" height=\"24px\"viewBox=\"0 0 24 24\"\n",
              "       width=\"24px\">\n",
              "    <path d=\"M0 0h24v24H0V0z\" fill=\"none\"/>\n",
              "    <path d=\"M18.56 5.44l.94 2.06.94-2.06 2.06-.94-2.06-.94-.94-2.06-.94 2.06-2.06.94zm-11 1L8.5 8.5l.94-2.06 2.06-.94-2.06-.94L8.5 2.5l-.94 2.06-2.06.94zm10 10l.94 2.06.94-2.06 2.06-.94-2.06-.94-.94-2.06-.94 2.06-2.06.94z\"/><path d=\"M17.41 7.96l-1.37-1.37c-.4-.4-.92-.59-1.43-.59-.52 0-1.04.2-1.43.59L10.3 9.45l-7.72 7.72c-.78.78-.78 2.05 0 2.83L4 21.41c.39.39.9.59 1.41.59.51 0 1.02-.2 1.41-.59l7.78-7.78 2.81-2.81c.8-.78.8-2.07 0-2.86zM5.41 20L4 18.59l7.72-7.72 1.47 1.35L5.41 20z\"/>\n",
              "  </svg>\n",
              "      </button>\n",
              "      \n",
              "  <style>\n",
              "    .colab-df-container {\n",
              "      display:flex;\n",
              "      flex-wrap:wrap;\n",
              "      gap: 12px;\n",
              "    }\n",
              "\n",
              "    .colab-df-convert {\n",
              "      background-color: #E8F0FE;\n",
              "      border: none;\n",
              "      border-radius: 50%;\n",
              "      cursor: pointer;\n",
              "      display: none;\n",
              "      fill: #1967D2;\n",
              "      height: 32px;\n",
              "      padding: 0 0 0 0;\n",
              "      width: 32px;\n",
              "    }\n",
              "\n",
              "    .colab-df-convert:hover {\n",
              "      background-color: #E2EBFA;\n",
              "      box-shadow: 0px 1px 2px rgba(60, 64, 67, 0.3), 0px 1px 3px 1px rgba(60, 64, 67, 0.15);\n",
              "      fill: #174EA6;\n",
              "    }\n",
              "\n",
              "    [theme=dark] .colab-df-convert {\n",
              "      background-color: #3B4455;\n",
              "      fill: #D2E3FC;\n",
              "    }\n",
              "\n",
              "    [theme=dark] .colab-df-convert:hover {\n",
              "      background-color: #434B5C;\n",
              "      box-shadow: 0px 1px 3px 1px rgba(0, 0, 0, 0.15);\n",
              "      filter: drop-shadow(0px 1px 2px rgba(0, 0, 0, 0.3));\n",
              "      fill: #FFFFFF;\n",
              "    }\n",
              "  </style>\n",
              "\n",
              "      <script>\n",
              "        const buttonEl =\n",
              "          document.querySelector('#df-068432dc-c14e-4b39-995b-90210958dce2 button.colab-df-convert');\n",
              "        buttonEl.style.display =\n",
              "          google.colab.kernel.accessAllowed ? 'block' : 'none';\n",
              "\n",
              "        async function convertToInteractive(key) {\n",
              "          const element = document.querySelector('#df-068432dc-c14e-4b39-995b-90210958dce2');\n",
              "          const dataTable =\n",
              "            await google.colab.kernel.invokeFunction('convertToInteractive',\n",
              "                                                     [key], {});\n",
              "          if (!dataTable) return;\n",
              "\n",
              "          const docLinkHtml = 'Like what you see? Visit the ' +\n",
              "            '<a target=\"_blank\" href=https://colab.research.google.com/notebooks/data_table.ipynb>data table notebook</a>'\n",
              "            + ' to learn more about interactive tables.';\n",
              "          element.innerHTML = '';\n",
              "          dataTable['output_type'] = 'display_data';\n",
              "          await google.colab.output.renderOutput(dataTable, element);\n",
              "          const docLink = document.createElement('div');\n",
              "          docLink.innerHTML = docLinkHtml;\n",
              "          element.appendChild(docLink);\n",
              "        }\n",
              "      </script>\n",
              "    </div>\n",
              "  </div>\n",
              "  "
            ]
          },
          "metadata": {},
          "execution_count": 89
        }
      ]
    },
    {
      "cell_type": "code",
      "source": [
        "text = dataset[\"Text\"]\n",
        "text.head(10)"
      ],
      "metadata": {
        "colab": {
          "base_uri": "https://localhost:8080/"
        },
        "id": "bTHfN_gvC9KJ",
        "outputId": "60eddcab-bd94-4d95-d274-68fa5b913957"
      },
      "execution_count": 90,
      "outputs": [
        {
          "output_type": "execute_result",
          "data": {
            "text/plain": [
              "0    worldcom ex-boss launches defence lawyers defe...\n",
              "1    german business confidence slides german busin...\n",
              "2    bbc poll indicates economic gloom citizens in ...\n",
              "3    lifestyle  governs mobile choice  faster  bett...\n",
              "4    enron bosses in $168m payout eighteen former e...\n",
              "5    howard  truanted to play snooker  conservative...\n",
              "6    wales silent on grand slam talk rhys williams ...\n",
              "7    french honour for director parker british film...\n",
              "8    car giant hit by mercedes slump a slump in pro...\n",
              "9    fockers fuel festive film chart comedy meet th...\n",
              "Name: Text, dtype: object"
            ]
          },
          "metadata": {},
          "execution_count": 90
        }
      ]
    },
    {
      "cell_type": "code",
      "source": [
        "category = dataset['Category']\n",
        "category.head(10)"
      ],
      "metadata": {
        "colab": {
          "base_uri": "https://localhost:8080/"
        },
        "id": "Oq3YXoi0C-qn",
        "outputId": "4370bdbb-d8bb-46a4-ded8-06053478b193"
      },
      "execution_count": 91,
      "outputs": [
        {
          "output_type": "execute_result",
          "data": {
            "text/plain": [
              "0         business\n",
              "1         business\n",
              "2         business\n",
              "3             tech\n",
              "4         business\n",
              "5         politics\n",
              "6            sport\n",
              "7    entertainment\n",
              "8         business\n",
              "9    entertainment\n",
              "Name: Category, dtype: object"
            ]
          },
          "metadata": {},
          "execution_count": 91
        }
      ]
    },
    {
      "cell_type": "code",
      "source": [
        "def remove_tags(text):\n",
        "  remove = re.compile(r'')\n",
        "  return re.sub(remove, '', text)\n",
        "dataset['Text'] = dataset['Text'].apply(remove_tags)"
      ],
      "metadata": {
        "id": "FOB1FUFVDD1d"
      },
      "execution_count": 92,
      "outputs": []
    },
    {
      "cell_type": "code",
      "source": [
        "def special_char(text):\n",
        "  reviews = ''\n",
        "  for x in text:\n",
        "    if x.isalnum():\n",
        "      reviews = reviews + x\n",
        "    else:\n",
        "      reviews = reviews + ' '\n",
        "  return reviews\n",
        "dataset['Text'] = dataset['Text'].apply(special_char)"
      ],
      "metadata": {
        "id": "d1drvr-rDPLu"
      },
      "execution_count": 93,
      "outputs": []
    },
    {
      "cell_type": "code",
      "source": [
        "def convert_lower(text):\n",
        "   return text.lower()\n",
        "dataset['Text'] = dataset['Text'].apply(convert_lower)\n",
        "dataset['Text'][1]"
      ],
      "metadata": {
        "colab": {
          "base_uri": "https://localhost:8080/",
          "height": 145
        },
        "id": "0E4W07bsDRXS",
        "outputId": "b75a9bc1-7ee4-4274-adce-b5df4e6a84e6"
      },
      "execution_count": 94,
      "outputs": [
        {
          "output_type": "execute_result",
          "data": {
            "text/plain": [
              "'german business confidence slides german business confidence fell in february knocking hopes of a speedy recovery in europe s largest economy   munich based research institute ifo said that its confidence index fell to 95 5 in february from 97 5 in january  its first decline in three months  the study found that the outlook in both the manufacturing and retail sectors had worsened  observers had been hoping that a more confident business sector would signal that economic activity was picking up    we re surprised that the ifo index has taken such a knock   said dz bank economist bernd weidensteiner   the main reason is probably that the domestic economy is still weak  particularly in the retail trade   economy and labour minister wolfgang clement called the dip in february s ifo confidence figure  a very mild decline   he said that despite the retreat  the index remained at a relatively high level and that he expected  a modest economic upswing  to continue   germany s economy grew 1 6  last year after shrinking in 2003  however  the economy contracted by 0 2  during the last three months of 2004  mainly due to the reluctance of consumers to spend  latest indications are that growth is still proving elusive and ifo president hans werner sinn said any improvement in german domestic demand was sluggish  exports had kept things going during the first half of 2004  but demand for exports was then hit as the value of the euro hit record levels making german products less competitive overseas  on top of that  the unemployment rate has been stuck at close to 10  and manufacturing firms  including daimlerchrysler  siemens and volkswagen  have been negotiating with unions over cost cutting measures  analysts said that the ifo figures and germany s continuing problems may delay an interest rate rise by the european central bank  eurozone interest rates are at 2   but comments from senior officials have recently focused on the threat of inflation  prompting fears that interest rates may rise '"
            ],
            "application/vnd.google.colaboratory.intrinsic+json": {
              "type": "string"
            }
          },
          "metadata": {},
          "execution_count": 94
        }
      ]
    },
    {
      "cell_type": "code",
      "source": [
        "def remove_stopwords(text):\n",
        "  stop_words = set(stopwords.words('english'))\n",
        "  words = word_tokenize(text)\n",
        "  return [x for x in words if x not in stop_words]\n",
        "dataset['Text'] = dataset['Text'].apply(remove_stopwords)\n",
        "dataset['Text'][1]"
      ],
      "metadata": {
        "colab": {
          "base_uri": "https://localhost:8080/"
        },
        "id": "LA1etqPeDTse",
        "outputId": "46f7276d-be2e-4537-fde3-112735364342"
      },
      "execution_count": 95,
      "outputs": [
        {
          "output_type": "execute_result",
          "data": {
            "text/plain": [
              "['german',\n",
              " 'business',\n",
              " 'confidence',\n",
              " 'slides',\n",
              " 'german',\n",
              " 'business',\n",
              " 'confidence',\n",
              " 'fell',\n",
              " 'february',\n",
              " 'knocking',\n",
              " 'hopes',\n",
              " 'speedy',\n",
              " 'recovery',\n",
              " 'europe',\n",
              " 'largest',\n",
              " 'economy',\n",
              " 'munich',\n",
              " 'based',\n",
              " 'research',\n",
              " 'institute',\n",
              " 'ifo',\n",
              " 'said',\n",
              " 'confidence',\n",
              " 'index',\n",
              " 'fell',\n",
              " '95',\n",
              " '5',\n",
              " 'february',\n",
              " '97',\n",
              " '5',\n",
              " 'january',\n",
              " 'first',\n",
              " 'decline',\n",
              " 'three',\n",
              " 'months',\n",
              " 'study',\n",
              " 'found',\n",
              " 'outlook',\n",
              " 'manufacturing',\n",
              " 'retail',\n",
              " 'sectors',\n",
              " 'worsened',\n",
              " 'observers',\n",
              " 'hoping',\n",
              " 'confident',\n",
              " 'business',\n",
              " 'sector',\n",
              " 'would',\n",
              " 'signal',\n",
              " 'economic',\n",
              " 'activity',\n",
              " 'picking',\n",
              " 'surprised',\n",
              " 'ifo',\n",
              " 'index',\n",
              " 'taken',\n",
              " 'knock',\n",
              " 'said',\n",
              " 'dz',\n",
              " 'bank',\n",
              " 'economist',\n",
              " 'bernd',\n",
              " 'weidensteiner',\n",
              " 'main',\n",
              " 'reason',\n",
              " 'probably',\n",
              " 'domestic',\n",
              " 'economy',\n",
              " 'still',\n",
              " 'weak',\n",
              " 'particularly',\n",
              " 'retail',\n",
              " 'trade',\n",
              " 'economy',\n",
              " 'labour',\n",
              " 'minister',\n",
              " 'wolfgang',\n",
              " 'clement',\n",
              " 'called',\n",
              " 'dip',\n",
              " 'february',\n",
              " 'ifo',\n",
              " 'confidence',\n",
              " 'figure',\n",
              " 'mild',\n",
              " 'decline',\n",
              " 'said',\n",
              " 'despite',\n",
              " 'retreat',\n",
              " 'index',\n",
              " 'remained',\n",
              " 'relatively',\n",
              " 'high',\n",
              " 'level',\n",
              " 'expected',\n",
              " 'modest',\n",
              " 'economic',\n",
              " 'upswing',\n",
              " 'continue',\n",
              " 'germany',\n",
              " 'economy',\n",
              " 'grew',\n",
              " '1',\n",
              " '6',\n",
              " 'last',\n",
              " 'year',\n",
              " 'shrinking',\n",
              " '2003',\n",
              " 'however',\n",
              " 'economy',\n",
              " 'contracted',\n",
              " '0',\n",
              " '2',\n",
              " 'last',\n",
              " 'three',\n",
              " 'months',\n",
              " '2004',\n",
              " 'mainly',\n",
              " 'due',\n",
              " 'reluctance',\n",
              " 'consumers',\n",
              " 'spend',\n",
              " 'latest',\n",
              " 'indications',\n",
              " 'growth',\n",
              " 'still',\n",
              " 'proving',\n",
              " 'elusive',\n",
              " 'ifo',\n",
              " 'president',\n",
              " 'hans',\n",
              " 'werner',\n",
              " 'sinn',\n",
              " 'said',\n",
              " 'improvement',\n",
              " 'german',\n",
              " 'domestic',\n",
              " 'demand',\n",
              " 'sluggish',\n",
              " 'exports',\n",
              " 'kept',\n",
              " 'things',\n",
              " 'going',\n",
              " 'first',\n",
              " 'half',\n",
              " '2004',\n",
              " 'demand',\n",
              " 'exports',\n",
              " 'hit',\n",
              " 'value',\n",
              " 'euro',\n",
              " 'hit',\n",
              " 'record',\n",
              " 'levels',\n",
              " 'making',\n",
              " 'german',\n",
              " 'products',\n",
              " 'less',\n",
              " 'competitive',\n",
              " 'overseas',\n",
              " 'top',\n",
              " 'unemployment',\n",
              " 'rate',\n",
              " 'stuck',\n",
              " 'close',\n",
              " '10',\n",
              " 'manufacturing',\n",
              " 'firms',\n",
              " 'including',\n",
              " 'daimlerchrysler',\n",
              " 'siemens',\n",
              " 'volkswagen',\n",
              " 'negotiating',\n",
              " 'unions',\n",
              " 'cost',\n",
              " 'cutting',\n",
              " 'measures',\n",
              " 'analysts',\n",
              " 'said',\n",
              " 'ifo',\n",
              " 'figures',\n",
              " 'germany',\n",
              " 'continuing',\n",
              " 'problems',\n",
              " 'may',\n",
              " 'delay',\n",
              " 'interest',\n",
              " 'rate',\n",
              " 'rise',\n",
              " 'european',\n",
              " 'central',\n",
              " 'bank',\n",
              " 'eurozone',\n",
              " 'interest',\n",
              " 'rates',\n",
              " '2',\n",
              " 'comments',\n",
              " 'senior',\n",
              " 'officials',\n",
              " 'recently',\n",
              " 'focused',\n",
              " 'threat',\n",
              " 'inflation',\n",
              " 'prompting',\n",
              " 'fears',\n",
              " 'interest',\n",
              " 'rates',\n",
              " 'may',\n",
              " 'rise']"
            ]
          },
          "metadata": {},
          "execution_count": 95
        }
      ]
    },
    {
      "cell_type": "code",
      "source": [
        "def lemmatize_word(text):\n",
        "  wordnet = WordNetLemmatizer()\n",
        "  return \" \".join([wordnet.lemmatize(word) for word in text])\n",
        "dataset['Text'] = dataset['Text'].apply(lemmatize_word)\n",
        "dataset['Text'][1]"
      ],
      "metadata": {
        "colab": {
          "base_uri": "https://localhost:8080/",
          "height": 145
        },
        "id": "0PH1_40sLtot",
        "outputId": "dcc40e7e-dee3-48ff-ac9e-e42d4de30440"
      },
      "execution_count": 96,
      "outputs": [
        {
          "output_type": "execute_result",
          "data": {
            "text/plain": [
              "'german business confidence slide german business confidence fell february knocking hope speedy recovery europe largest economy munich based research institute ifo said confidence index fell 95 5 february 97 5 january first decline three month study found outlook manufacturing retail sector worsened observer hoping confident business sector would signal economic activity picking surprised ifo index taken knock said dz bank economist bernd weidensteiner main reason probably domestic economy still weak particularly retail trade economy labour minister wolfgang clement called dip february ifo confidence figure mild decline said despite retreat index remained relatively high level expected modest economic upswing continue germany economy grew 1 6 last year shrinking 2003 however economy contracted 0 2 last three month 2004 mainly due reluctance consumer spend latest indication growth still proving elusive ifo president han werner sinn said improvement german domestic demand sluggish export kept thing going first half 2004 demand export hit value euro hit record level making german product le competitive overseas top unemployment rate stuck close 10 manufacturing firm including daimlerchrysler siemens volkswagen negotiating union cost cutting measure analyst said ifo figure germany continuing problem may delay interest rate rise european central bank eurozone interest rate 2 comment senior official recently focused threat inflation prompting fear interest rate may rise'"
            ],
            "application/vnd.google.colaboratory.intrinsic+json": {
              "type": "string"
            }
          },
          "metadata": {},
          "execution_count": 96
        }
      ]
    },
    {
      "cell_type": "code",
      "source": [
        "\n",
        "x = dataset['Text']\n",
        "y = dataset['CategoryId']"
      ],
      "metadata": {
        "id": "Vh0niNMWDYWp"
      },
      "execution_count": 97,
      "outputs": []
    },
    {
      "cell_type": "code",
      "source": [
        "from sklearn.feature_extraction.text import CountVectorizer\n",
        "x = np.array(dataset.iloc[:,0].values)\n",
        "y = np.array(dataset.CategoryId.values)\n",
        "cv = CountVectorizer(max_features = 5000)\n",
        "x = cv.fit_transform(dataset.Text).toarray()\n",
        "print(\"X.shape = \",x.shape)\n",
        "print(\"y.shape = \",y.shape)"
      ],
      "metadata": {
        "colab": {
          "base_uri": "https://localhost:8080/"
        },
        "id": "IQLVqFH2DaRs",
        "outputId": "168a650b-6dd7-413a-80d9-487513495ab2"
      },
      "execution_count": 98,
      "outputs": [
        {
          "output_type": "stream",
          "name": "stdout",
          "text": [
            "X.shape =  (1490, 5000)\n",
            "y.shape =  (1490,)\n"
          ]
        }
      ]
    },
    {
      "cell_type": "code",
      "source": [
        "from sklearn.model_selection import train_test_split\n",
        "x_train, x_test, y_train, y_test = train_test_split(x, y, test_size = 0.3, random_state = 0, shuffle = True)\n",
        "print(len(x_train))\n",
        "print(len(x_test))"
      ],
      "metadata": {
        "colab": {
          "base_uri": "https://localhost:8080/"
        },
        "id": "Rw_erqsUDcOW",
        "outputId": "0af4fd33-446e-4647-f193-5cc06d180607"
      },
      "execution_count": 99,
      "outputs": [
        {
          "output_type": "stream",
          "name": "stdout",
          "text": [
            "1043\n",
            "447\n"
          ]
        }
      ]
    },
    {
      "cell_type": "code",
      "source": [
        "# perform_list = [ ]\n"
      ],
      "metadata": {
        "id": "3tjUD5qGDe5t"
      },
      "execution_count": 100,
      "outputs": []
    },
    {
      "cell_type": "code",
      "source": [
        "def run_model(model_name, est_c, est_pnlty):\n",
        "\n",
        "  mdl=''\n",
        "\n",
        "  if model_name == 'Support Vector Classifer':\n",
        "\n",
        "    mdl = SVC()\n",
        "\n",
        "  elif model_name == 'Decision Tree Classifier':\n",
        "\n",
        "    mdl = DecisionTreeClassifier()\n",
        "\n",
        "  oneVsRest = OneVsRestClassifier(mdl)\n",
        "\n",
        "  oneVsRest.fit(x_train, y_train)\n",
        "\n",
        "  y_pred = oneVsRest.predict(x_test)\n",
        "\n",
        "  # Performance metrics\n",
        "\n",
        "  accuracy = round(accuracy_score(y_test, y_pred) * 100, 2)\n",
        "\n",
        "  # Get precision, recall, f1 scores\n",
        "\n",
        "  precision, recall, f1score, support = score(y_test, y_pred, average='micro')\n",
        "\n",
        "  print(f'Test Accuracy Score of Basic {model_name}: % {accuracy}')\n",
        "\n",
        "  print(f'Precision : {precision}')\n",
        "\n",
        "  print(f'Recall : {recall}')\n",
        "\n",
        "  print(f'F1-score : {f1score}')\n",
        "\n",
        "  # Add performance parameters to list\n",
        "\n",
        "  perform_list.append(dict([\n",
        "\n",
        "  ('Model', model_name),\n",
        "\n",
        "  ('Test Accuracy', round(accuracy, 2)),\n",
        "\n",
        "  ('Precision', round(precision, 2)),\n",
        "\n",
        "  ('Recall', round(recall, 2)),\n",
        "\n",
        "  ('F1', round(f1score, 2))\n",
        "\n",
        "  ]))"
      ],
      "metadata": {
        "id": "Wn9CXccZIt3Y"
      },
      "execution_count": 101,
      "outputs": []
    },
    {
      "cell_type": "code",
      "source": [
        "run_model('Support Vector Classifer', est_c=None, est_pnlty=None)"
      ],
      "metadata": {
        "colab": {
          "base_uri": "https://localhost:8080/"
        },
        "id": "rLU6XBDgJB9D",
        "outputId": "93975c57-4cd2-4436-f3f6-df34052c7a5b"
      },
      "execution_count": 102,
      "outputs": [
        {
          "output_type": "stream",
          "name": "stdout",
          "text": [
            "Test Accuracy Score of Basic Support Vector Classifer: % 96.64\n",
            "Precision : 0.9664429530201343\n",
            "Recall : 0.9664429530201343\n",
            "F1-score : 0.9664429530201343\n"
          ]
        }
      ]
    },
    {
      "cell_type": "code",
      "source": [],
      "metadata": {
        "id": "1BkiAhEaKZAJ"
      },
      "execution_count": 102,
      "outputs": []
    }
  ]
}