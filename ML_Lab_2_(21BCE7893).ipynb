{
  "nbformat": 4,
  "nbformat_minor": 0,
  "metadata": {
    "colab": {
      "provenance": [],
      "authorship_tag": "ABX9TyPN6FA6GJz66iAjXflUBNTP",
      "include_colab_link": true
    },
    "kernelspec": {
      "name": "python3",
      "display_name": "Python 3"
    },
    "language_info": {
      "name": "python"
    }
  },
  "cells": [
    {
      "cell_type": "markdown",
      "metadata": {
        "id": "view-in-github",
        "colab_type": "text"
      },
      "source": [
        "<a href=\"https://colab.research.google.com/github/chetya17/ML-Lab-Codes/blob/main/ML_Lab_2_(21BCE7893).ipynb\" target=\"_parent\"><img src=\"https://colab.research.google.com/assets/colab-badge.svg\" alt=\"Open In Colab\"/></a>"
      ]
    },
    {
      "cell_type": "markdown",
      "source": [
        "**Experiment 2**"
      ],
      "metadata": {
        "id": "fMoVh9G7zO_y"
      }
    },
    {
      "cell_type": "markdown",
      "source": [
        "\n",
        "**Name**– Chetan V. Talele Reg No.– 21BCE7893\n",
        "\n",
        "**Problem Statement**- For a given set of training data examples stored in a .CSV file, implement and demonstrate the Candidate-Elimination algorithm to output a description of the set of all hypotheses consistent with the training examples. "
      ],
      "metadata": {
        "id": "46Ngn6sXy5d-"
      }
    },
    {
      "cell_type": "code",
      "execution_count": 1,
      "metadata": {
        "id": "1_j_RDVTtYT1",
        "colab": {
          "base_uri": "https://localhost:8080/",
          "height": 0
        },
        "outputId": "6e1d084c-525f-4a59-ca1f-5c030001f446"
      },
      "outputs": [
        {
          "output_type": "stream",
          "name": "stdout",
          "text": [
            "\n",
            " The Given Training Data Set\n",
            "['Sky', 'Air temp', 'Humidity', 'Wind', 'Water', 'Forecast', 'EnjoySport']\n",
            "['Sunny', 'Warm', 'Normal', 'Strong', 'Warm', 'Same', 'Yes']\n",
            "['Sunny', 'Warm', 'High', 'Strong', 'Warm', 'Same', 'Yes']\n",
            "['Rainy', 'Cold', 'High', 'Strong', 'Warm', 'Change', 'No']\n",
            "['Sunny', 'Warm', 'High', 'Strong', 'Cool', 'Change', 'Yes']\n"
          ]
        }
      ],
      "source": [
        "import csv\n",
        "a = []\n",
        "print(\"\\n The Given Training Data Set\")\n",
        "with open('Lab1data.csv', 'r') as csvFile:\n",
        "    reader = csv.reader(csvFile)\n",
        "    for row in reader:\n",
        "        a.append (row)\n",
        "        print(row)\n",
        "num_attributes = len(a[0])-1"
      ]
    },
    {
      "cell_type": "code",
      "source": [
        "print(\"\\n The initial value of hypothesis: \")\n",
        "S = ['0'] * num_attributes\n",
        "G = ['?'] * num_attributes\n",
        "print (\"\\n The most specific hypothesis S0 : [0,0,0,0,0,0]\")\n",
        "print (\" \\n The most general hypothesis G0 : [?,?,?,?,?,?]\")"
      ],
      "metadata": {
        "colab": {
          "base_uri": "https://localhost:8080/",
          "height": 0
        },
        "id": "3hcOv3G7yDQm",
        "outputId": "d877e949-8055-456a-f0cb-9b752b27afe6"
      },
      "execution_count": 2,
      "outputs": [
        {
          "output_type": "stream",
          "name": "stdout",
          "text": [
            "\n",
            " The initial value of hypothesis: \n",
            "\n",
            " The most specific hypothesis S0 : [0,0,0,0,0,0]\n",
            " \n",
            " The most general hypothesis G0 : [?,?,?,?,?,?]\n"
          ]
        }
      ]
    },
    {
      "cell_type": "code",
      "source": [
        "for j in range(0,num_attributes):\n",
        "    S[j]=a[0][j];"
      ],
      "metadata": {
        "id": "KAzqPs2ByJhO"
      },
      "execution_count": 3,
      "outputs": []
    },
    {
      "cell_type": "code",
      "source": [
        "S"
      ],
      "metadata": {
        "colab": {
          "base_uri": "https://localhost:8080/",
          "height": 0
        },
        "id": "bxLTJ5DRyOxD",
        "outputId": "d3866ea3-ca8a-40c3-b736-c17953a68360"
      },
      "execution_count": 4,
      "outputs": [
        {
          "output_type": "execute_result",
          "data": {
            "text/plain": [
              "['Sky', 'Air temp', 'Humidity', 'Wind', 'Water', 'Forecast']"
            ]
          },
          "metadata": {},
          "execution_count": 4
        }
      ]
    },
    {
      "cell_type": "code",
      "source": [
        "print(\"\\n Candidate Elimination algorithm Hypotheses Version Space Computation\\n\")\n",
        "temp=[]\n",
        "for i in range(0,len(a)):\n",
        "    if a[i][num_attributes]=='Yes':\n",
        "        for j in range(0,num_attributes):\n",
        "            if a[i][j]!=S[j]:\n",
        "                S[j]='?'\n",
        "        for j in range(0,num_attributes):\n",
        "            for k in range(1,len(temp)):\n",
        "                if temp[k][j]!='?' and temp[k][j]!=S[j]:\n",
        "                    del temp[k]\n",
        "        print(\"----------------------------------------------------------------------------- \")\n",
        "        print(\" For Training Example No :{0} the hypothesis is S{0} \".format(i+1),S)\n",
        "        if (len(temp)==0):\n",
        "            print(\" For Training Example No :{0} the hypothesis is G{0} \".format(i+1),G)\n",
        "        else:\n",
        "            print(\" For  Positive Training Example No :{0} the hypothesis is G{0}\".format(i+1),temp)\n",
        "    if a[i][num_attributes]=='No':\n",
        "        for j in range(0,num_attributes):\n",
        "            if S[j] != a[i][j] and S[j]!= '?':\n",
        "                G[j]=S[j]\n",
        "                temp.append(G)\n",
        "                G = ['?'] * num_attributes\n",
        "        print(\"----------------------------------------------------------------------------- \")\n",
        "        print(\" For Training Example No :{0} the hypothesis is S{0} \".format(i+1),S)\n",
        "        print(\" For Training Example No :{0} the hypothesis is G{0}\".format(i+1),temp)"
      ],
      "metadata": {
        "colab": {
          "base_uri": "https://localhost:8080/",
          "height": 0
        },
        "id": "aIPViExyyRy8",
        "outputId": "923681d5-7cd8-44ef-9c8d-3bdf3a306522"
      },
      "execution_count": 5,
      "outputs": [
        {
          "output_type": "stream",
          "name": "stdout",
          "text": [
            "\n",
            " Candidate Elimination algorithm Hypotheses Version Space Computation\n",
            "\n",
            "----------------------------------------------------------------------------- \n",
            " For Training Example No :2 the hypothesis is S2  ['?', '?', '?', '?', '?', '?']\n",
            " For Training Example No :2 the hypothesis is G2  ['?', '?', '?', '?', '?', '?']\n",
            "----------------------------------------------------------------------------- \n",
            " For Training Example No :3 the hypothesis is S3  ['?', '?', '?', '?', '?', '?']\n",
            " For Training Example No :3 the hypothesis is G3  ['?', '?', '?', '?', '?', '?']\n",
            "----------------------------------------------------------------------------- \n",
            " For Training Example No :4 the hypothesis is S4  ['?', '?', '?', '?', '?', '?']\n",
            " For Training Example No :4 the hypothesis is G4 []\n",
            "----------------------------------------------------------------------------- \n",
            " For Training Example No :5 the hypothesis is S5  ['?', '?', '?', '?', '?', '?']\n",
            " For Training Example No :5 the hypothesis is G5  ['?', '?', '?', '?', '?', '?']\n"
          ]
        }
      ]
    },
    {
      "cell_type": "markdown",
      "source": [
        "**Dataset :**"
      ],
      "metadata": {
        "id": "gYSY3qJMzmgr"
      }
    },
    {
      "cell_type": "markdown",
      "source": [
        "\n",
        "![image.png](data:image/png;base64,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)\n"
      ],
      "metadata": {
        "id": "hlRRKgOxzW9Q"
      }
    }
  ]
}