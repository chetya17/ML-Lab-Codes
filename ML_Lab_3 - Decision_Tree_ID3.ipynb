{
  "nbformat": 4,
  "nbformat_minor": 0,
  "metadata": {
    "colab": {
      "provenance": [],
      "authorship_tag": "ABX9TyN0Dt4aDww2MDPMXJPRqIcV",
      "include_colab_link": true
    },
    "kernelspec": {
      "name": "python3",
      "display_name": "Python 3"
    },
    "language_info": {
      "name": "python"
    }
  },
  "cells": [
    {
      "cell_type": "markdown",
      "metadata": {
        "id": "view-in-github",
        "colab_type": "text"
      },
      "source": [
        "<a href=\"https://colab.research.google.com/github/chetya17/ML-Lab-Codes/blob/main/ML_Lab_3%20-%20Decision_Tree_ID3.ipynb\" target=\"_parent\"><img src=\"https://colab.research.google.com/assets/colab-badge.svg\" alt=\"Open In Colab\"/></a>"
      ]
    },
    {
      "cell_type": "markdown",
      "source": [
        "Machine Learning Lab\n",
        "Experiment 3 - ID3 Algorithm\n"
      ],
      "metadata": {
        "id": "JGT5z0ZXm1nU"
      }
    },
    {
      "cell_type": "markdown",
      "source": [
        "Name – Chetan V. Talele\n",
        "Reg No. – 21BCE7893"
      ],
      "metadata": {
        "id": "wex1pkfMnCtO"
      }
    },
    {
      "cell_type": "markdown",
      "source": [
        "Problem Statement - Write a program to demonstrate the working of the decision tree based ID3\n",
        "algorithm consider weather dataset."
      ],
      "metadata": {
        "id": "8b0VexLZnFcm"
      }
    },
    {
      "cell_type": "code",
      "execution_count": 1,
      "metadata": {
        "id": "pisarMmQ2MjG"
      },
      "outputs": [],
      "source": [
        "import pandas as pd\n",
        "import numpy as np\n",
        "df_tennis = pd.read_csv('tennis.csv')"
      ]
    },
    {
      "cell_type": "code",
      "source": [
        "from collections import Counter\n",
        "def entropy_list(a_list):\n",
        "    cnt = Counter(x for x in a_list)\n",
        "    num_instance = len(a_list)*1.0\n",
        "    probs = [x/num_instance for x in cnt.values()]\n",
        "    return entropy(probs)"
      ],
      "metadata": {
        "id": "zotAzfm0lrjK"
      },
      "execution_count": 2,
      "outputs": []
    },
    {
      "cell_type": "code",
      "source": [
        "\n",
        "import math\n",
        "def entropy(probs):\n",
        "    return sum([-prob*math.log(prob,2) for prob in probs])"
      ],
      "metadata": {
        "id": "nvR5mo5KmZIS"
      },
      "execution_count": 3,
      "outputs": []
    },
    {
      "cell_type": "code",
      "source": [
        "def info_gain(df,split,target,trace=0):\n",
        "    df_split = df.groupby(split)\n",
        "    nobs = len(df.index)*1.0\n",
        "    df_agg_ent = df_split.agg({ target:[entropy_list, lambda x: len(x)/nobs] })\n",
        "#     print(df_agg_ent)\n",
        "    df_agg_ent.columns = ['Entropy','PropObserved']\n",
        "    new_entropy = sum( df_agg_ent['Entropy'] * df_agg_ent[\"PropObserved\"])\n",
        "    old_entropy = entropy_list(df[target])\n",
        "    return old_entropy - new_entropy"
      ],
      "metadata": {
        "id": "oSZ5ZznbmbN4"
      },
      "execution_count": 4,
      "outputs": []
    },
    {
      "cell_type": "code",
      "source": [
        "def id3(df,target,attribute_name,default_class = None):\n",
        "    cnt = Counter(x for x in df[target])\n",
        "    if len(cnt)==1:\n",
        "        return next(iter(cnt))\n",
        "    elif df.empty or (not attribute_name):\n",
        "        return default_class\n",
        "    else:\n",
        "        default_class = max(cnt.keys())\n",
        "        gains = [info_gain(df,attr,target) for attr in attribute_name]\n",
        "        index_max = gains.index(max(gains))\n",
        "        best_attr = attribute_name[index_max]\n",
        "        tree = { best_attr:{ } }\n",
        "        remaining_attr = [x for x in attribute_name if x!=best_attr]\n",
        "        for attr_val, data_subset in df.groupby(best_attr):\n",
        "            subtree = id3(data_subset,target,remaining_attr,default_class)\n",
        "            tree[best_attr][attr_val] = subtree\n",
        "        return tree"
      ],
      "metadata": {
        "id": "2K5FigbLmd3N"
      },
      "execution_count": 5,
      "outputs": []
    },
    {
      "cell_type": "code",
      "source": [
        "def classify(instance,tree,default = None):\n",
        "    attribute = next(iter(tree))\n",
        "    if instance[attribute] in tree[attribute].keys():\n",
        "        result = tree[attribute][instance[attribute]]\n",
        "        if isinstance(result,dict):\n",
        "            return classify(instance,result)\n",
        "        else:\n",
        "            return result\n",
        "    else:\n",
        "        return default"
      ],
      "metadata": {
        "id": "HHuHyFnJmg-2"
      },
      "execution_count": 6,
      "outputs": []
    },
    {
      "cell_type": "code",
      "source": [
        "attribute_names = list(df_tennis.columns)\n",
        "attribute_names.remove('PlayTennis') #Remove the class attribute\n",
        "tree = id3(df_tennis,'PlayTennis',attribute_names)\n",
        "print(\"\\n\\nThe Resultant Decision Tree is :\\n\")\n",
        "print(tree)"
      ],
      "metadata": {
        "colab": {
          "base_uri": "https://localhost:8080/",
          "height": 0
        },
        "id": "4l8oq_IAmhnU",
        "outputId": "0678ca70-724e-4121-8808-930f1ec238a3"
      },
      "execution_count": 7,
      "outputs": [
        {
          "output_type": "stream",
          "name": "stdout",
          "text": [
            "\n",
            "\n",
            "The Resultant Decision Tree is :\n",
            "\n",
            "{'outlook': {'overcast': 'yes', 'rainy': {'windy': {False: 'yes', True: 'no'}}, 'sunny': {'humidity': {'high': 'no', 'normal': 'yes'}}}}\n"
          ]
        }
      ]
    },
    {
      "cell_type": "code",
      "source": [
        "training_data = df_tennis.iloc[1:-4] # all but last thousand instances\n",
        "test_data = df_tennis.iloc[-4:] # just the last thousand\n",
        "train_tree = id3(training_data, 'PlayTennis', attribute_names)\n",
        "print(\"\\n\\nThe Resultant Decision train_tree is :\\n\")\n",
        "print(train_tree)\n",
        "test_data['predicted2'] = test_data.apply(classify,axis=1,args=(train_tree,'Yes') )\n",
        "print ('\\n\\n Training the model for a few samples, and again predicting \\'Playtennis\\' for remaining attribute')\n",
        "print('The Accuracy for new trained data is : ' + str( sum(test_data['PlayTennis']==test_data['predicted2'] ) / (1.0*len(test_data.index)) ))"
      ],
      "metadata": {
        "colab": {
          "base_uri": "https://localhost:8080/",
          "height": 0
        },
        "id": "v3_S78wGmppV",
        "outputId": "e4e843f6-b1ee-489b-9619-825b16b66d82"
      },
      "execution_count": 8,
      "outputs": [
        {
          "output_type": "stream",
          "name": "stdout",
          "text": [
            "\n",
            "\n",
            "The Resultant Decision train_tree is :\n",
            "\n",
            "{'outlook': {'overcast': 'yes', 'rainy': {'windy': {False: 'yes', True: 'no'}}, 'sunny': {'temp': {'cool': 'yes', 'hot': 'no', 'mild': 'no'}}}}\n",
            "\n",
            "\n",
            " Training the model for a few samples, and again predicting 'Playtennis' for remaining attribute\n",
            "The Accuracy for new trained data is : 0.75\n"
          ]
        },
        {
          "output_type": "stream",
          "name": "stderr",
          "text": [
            "<ipython-input-8-17e4755f8009>:6: SettingWithCopyWarning: \n",
            "A value is trying to be set on a copy of a slice from a DataFrame.\n",
            "Try using .loc[row_indexer,col_indexer] = value instead\n",
            "\n",
            "See the caveats in the documentation: https://pandas.pydata.org/pandas-docs/stable/user_guide/indexing.html#returning-a-view-versus-a-copy\n",
            "  test_data['predicted2'] = test_data.apply(classify,axis=1,args=(train_tree,'Yes') )\n"
          ]
        }
      ]
    }
  ]
}