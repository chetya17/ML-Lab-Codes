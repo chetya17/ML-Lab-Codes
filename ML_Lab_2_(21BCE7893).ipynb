{
  "nbformat": 4,
  "nbformat_minor": 0,
  "metadata": {
    "colab": {
      "provenance": [],
      "authorship_tag": "ABX9TyPN6FA6GJz66iAjXflUBNTP",
      "include_colab_link": true
    },
    "kernelspec": {
      "name": "python3",
      "display_name": "Python 3"
    },
    "language_info": {
      "name": "python"
    }
  },
  "cells": [
    {
      "cell_type": "markdown",
      "metadata": {
        "id": "view-in-github",
        "colab_type": "text"
      },
      "source": [
        "<a href=\"https://colab.research.google.com/github/chetya17/ML-Lab-Codes/blob/main/ML_Lab_2_(21BCE7893).ipynb\" target=\"_parent\"><img src=\"https://colab.research.google.com/assets/colab-badge.svg\" alt=\"Open In Colab\"/></a>"
      ]
    },
    {
      "cell_type": "markdown",
      "source": [
        "**Experiment 2**"
      ],
      "metadata": {
        "id": "fMoVh9G7zO_y"
      }
    },
    {
      "cell_type": "markdown",
      "source": [
        "\n",
        "**Name**– Chetan V. Talele Reg No.– 21BCE7893\n",
        "\n",
        "**Problem Statement**- For a given set of training data examples stored in a .CSV file, implement and demonstrate the Candidate-Elimination algorithm to output a description of the set of all hypotheses consistent with the training examples. "
      ],
      "metadata": {
        "id": "46Ngn6sXy5d-"
      }
    },
    {
      "cell_type": "code",
      "execution_count": 14,
      "metadata": {
        "id": "1_j_RDVTtYT1",
        "colab": {
          "base_uri": "https://localhost:8080/"
        },
        "outputId": "4bb97366-a081-4f9b-bfef-f42fb9146a25"
      },
      "outputs": [
        {
          "output_type": "stream",
          "name": "stdout",
          "text": [
            "\n",
            " The Given Training Data Set\n",
            "['Sunny', 'Warm', 'Normal', 'Strong', 'Warm', 'Same', 'Yes']\n",
            "['Sunny', 'Warm', 'High', 'Strong', 'Warm', 'Same', 'Yes']\n",
            "['Rainy', 'Cold', 'High', 'Strong', 'Warm', 'Change', 'No']\n",
            "['Sunny', 'Warm', 'High', 'Strong', 'Cool', 'Change', 'Yes']\n"
          ]
        }
      ],
      "source": [
        "import csv\n",
        "a = []\n",
        "print(\"\\n The Given Training Data Set\")\n",
        "with open('Lab1data.csv', 'r') as csvFile:\n",
        "    reader = csv.reader(csvFile)\n",
        "    for row in reader:\n",
        "        a.append (row)\n",
        "        print(row)\n",
        "num_attributes = len(a[0])-1"
      ]
    },
    {
      "cell_type": "code",
      "source": [
        "print(\"\\n The initial value of hypothesis: \")\n",
        "S = ['0'] * num_attributes\n",
        "G = ['?'] * num_attributes\n",
        "print (\"\\n The most specific hypothesis S0 : [0,0,0,0,0,0]\")\n",
        "print (\" \\n The most general hypothesis G0 : [?,?,?,?,?,?]\")"
      ],
      "metadata": {
        "colab": {
          "base_uri": "https://localhost:8080/"
        },
        "id": "3hcOv3G7yDQm",
        "outputId": "0417ecf0-bdd6-42d8-fcff-146d5aa3a21e"
      },
      "execution_count": 15,
      "outputs": [
        {
          "output_type": "stream",
          "name": "stdout",
          "text": [
            "\n",
            " The initial value of hypothesis: \n",
            "\n",
            " The most specific hypothesis S0 : [0,0,0,0,0,0]\n",
            " \n",
            " The most general hypothesis G0 : [?,?,?,?,?,?]\n"
          ]
        }
      ]
    },
    {
      "cell_type": "code",
      "source": [
        "for j in range(0,num_attributes):\n",
        "    S[j]=a[0][j];"
      ],
      "metadata": {
        "id": "KAzqPs2ByJhO"
      },
      "execution_count": 16,
      "outputs": []
    },
    {
      "cell_type": "code",
      "source": [
        "S"
      ],
      "metadata": {
        "colab": {
          "base_uri": "https://localhost:8080/"
        },
        "id": "bxLTJ5DRyOxD",
        "outputId": "3b4ed962-cc59-47a3-c3b7-cda23f09284a"
      },
      "execution_count": 17,
      "outputs": [
        {
          "output_type": "execute_result",
          "data": {
            "text/plain": [
              "['Sunny', 'Warm', 'Normal', 'Strong', 'Warm', 'Same']"
            ]
          },
          "metadata": {},
          "execution_count": 17
        }
      ]
    },
    {
      "cell_type": "code",
      "source": [
        "print(\"\\n Candidate Elimination algorithm Hypotheses Version Space Computation\\n\")\n",
        "temp=[]\n",
        "for i in range(0,len(a)):\n",
        "    if a[i][num_attributes]=='Yes':\n",
        "        for j in range(0,num_attributes):\n",
        "            if a[i][j]!=S[j]:\n",
        "                S[j]='?'\n",
        "        for j in range(0,num_attributes):\n",
        "            for k in range(1,len(temp)):\n",
        "                if temp[k][j]!='?' and temp[k][j]!=S[j]:\n",
        "                    del temp[k]\n",
        "        print(\"----------------------------------------------------------------------------- \")\n",
        "        print(\" For Training Example No :{0} the hypothesis is S{0} \".format(i+1),S)\n",
        "        if (len(temp)==0):\n",
        "            print(\" For Training Example No :{0} the hypothesis is G{0} \".format(i+1),G)\n",
        "        else:\n",
        "            print(\" For  Positive Training Example No :{0} the hypothesis is G{0}\".format(i+1),temp)\n",
        "    if a[i][num_attributes]=='No':\n",
        "        for j in range(0,num_attributes):\n",
        "            if S[j] != a[i][j] and S[j]!= '?':\n",
        "                G[j]=S[j]\n",
        "                temp.append(G)\n",
        "                G = ['?'] * num_attributes\n",
        "        print(\"----------------------------------------------------------------------------- \")\n",
        "        print(\" For Training Example No :{0} the hypothesis is S{0} \".format(i+1),S)\n",
        "        print(\" For Training Example No :{0} the hypothesis is G{0}\".format(i+1),temp)"
      ],
      "metadata": {
        "colab": {
          "base_uri": "https://localhost:8080/"
        },
        "id": "aIPViExyyRy8",
        "outputId": "13b8bd06-39c5-46d0-b272-71e0d1e3fb5c"
      },
      "execution_count": 18,
      "outputs": [
        {
          "output_type": "stream",
          "name": "stdout",
          "text": [
            "\n",
            " Candidate Elimination algorithm Hypotheses Version Space Computation\n",
            "\n",
            "----------------------------------------------------------------------------- \n",
            " For Training Example No :1 the hypothesis is S1  ['Sunny', 'Warm', 'Normal', 'Strong', 'Warm', 'Same']\n",
            " For Training Example No :1 the hypothesis is G1  ['?', '?', '?', '?', '?', '?']\n",
            "----------------------------------------------------------------------------- \n",
            " For Training Example No :2 the hypothesis is S2  ['Sunny', 'Warm', '?', 'Strong', 'Warm', 'Same']\n",
            " For Training Example No :2 the hypothesis is G2  ['?', '?', '?', '?', '?', '?']\n",
            "----------------------------------------------------------------------------- \n",
            " For Training Example No :3 the hypothesis is S3  ['Sunny', 'Warm', '?', 'Strong', 'Warm', 'Same']\n",
            " For Training Example No :3 the hypothesis is G3 [['Sunny', '?', '?', '?', '?', '?'], ['?', 'Warm', '?', '?', '?', '?'], ['?', '?', '?', '?', '?', 'Same']]\n",
            "----------------------------------------------------------------------------- \n",
            " For Training Example No :4 the hypothesis is S4  ['Sunny', 'Warm', '?', 'Strong', '?', '?']\n",
            " For  Positive Training Example No :4 the hypothesis is G4 [['Sunny', '?', '?', '?', '?', '?'], ['?', 'Warm', '?', '?', '?', '?']]\n"
          ]
        }
      ]
    },
    {
      "cell_type": "markdown",
      "source": [
        "**Dataset :**"
      ],
      "metadata": {
        "id": "gYSY3qJMzmgr"
      }
    },
    {
      "cell_type": "markdown",
      "source": [
        "\n",
        "
![image.png](data:image/png;base64,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)
"
      ],
      "metadata": {
        "id": "hlRRKgOxzW9Q"
      }
    }
  ]
}
