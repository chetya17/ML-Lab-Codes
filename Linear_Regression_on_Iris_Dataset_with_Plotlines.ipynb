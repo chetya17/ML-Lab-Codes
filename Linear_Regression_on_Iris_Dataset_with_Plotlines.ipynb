{
  "nbformat": 4,
  "nbformat_minor": 0,
  "metadata": {
    "colab": {
      "provenance": [],
      "authorship_tag": "ABX9TyNRL1vm5TC9o1snVXcczITZ",
      "include_colab_link": true
    },
    "kernelspec": {
      "name": "python3",
      "display_name": "Python 3"
    },
    "language_info": {
      "name": "python"
    }
  },
  "cells": [
    {
      "cell_type": "markdown",
      "metadata": {
        "id": "view-in-github",
        "colab_type": "text"
      },
      "source": [
        "<a href=\"https://colab.research.google.com/github/chetya17/ML-Lab-Codes/blob/main/Linear_Regression_on_Iris_Dataset_with_Plotlines.ipynb\" target=\"_parent\"><img src=\"https://colab.research.google.com/assets/colab-badge.svg\" alt=\"Open In Colab\"/></a>"
      ]
    },
    {
      "cell_type": "code",
      "execution_count": null,
      "metadata": {
        "colab": {
          "base_uri": "https://localhost:8080/",
          "height": 423
        },
        "id": "gFyjPKKt3nqM",
        "outputId": "3e2874f5-6c57-4280-c5ac-ede96c2f7314"
      },
      "outputs": [
        {
          "output_type": "execute_result",
          "data": {
            "text/plain": [
              "     sepal_length  sepal_width  petal_length  petal_width    species\n",
              "0             5.1          3.5           1.4          0.2     setosa\n",
              "1             4.9          3.0           1.4          0.2     setosa\n",
              "2             4.7          3.2           1.3          0.2     setosa\n",
              "3             4.6          3.1           1.5          0.2     setosa\n",
              "4             5.0          3.6           1.4          0.2     setosa\n",
              "..            ...          ...           ...          ...        ...\n",
              "145           6.7          3.0           5.2          2.3  virginica\n",
              "146           6.3          2.5           5.0          1.9  virginica\n",
              "147           6.5          3.0           5.2          2.0  virginica\n",
              "148           6.2          3.4           5.4          2.3  virginica\n",
              "149           5.9          3.0           5.1          1.8  virginica\n",
              "\n",
              "[150 rows x 5 columns]"
            ],
            "text/html": [
              "\n",
              "  <div id=\"df-2ca1212b-177a-4687-8763-57874423680f\">\n",
              "    <div class=\"colab-df-container\">\n",
              "      <div>\n",
              "<style scoped>\n",
              "    .dataframe tbody tr th:only-of-type {\n",
              "        vertical-align: middle;\n",
              "    }\n",
              "\n",
              "    .dataframe tbody tr th {\n",
              "        vertical-align: top;\n",
              "    }\n",
              "\n",
              "    .dataframe thead th {\n",
              "        text-align: right;\n",
              "    }\n",
              "</style>\n",
              "<table border=\"1\" class=\"dataframe\">\n",
              "  <thead>\n",
              "    <tr style=\"text-align: right;\">\n",
              "      <th></th>\n",
              "      <th>sepal_length</th>\n",
              "      <th>sepal_width</th>\n",
              "      <th>petal_length</th>\n",
              "      <th>petal_width</th>\n",
              "      <th>species</th>\n",
              "    </tr>\n",
              "  </thead>\n",
              "  <tbody>\n",
              "    <tr>\n",
              "      <th>0</th>\n",
              "      <td>5.1</td>\n",
              "      <td>3.5</td>\n",
              "      <td>1.4</td>\n",
              "      <td>0.2</td>\n",
              "      <td>setosa</td>\n",
              "    </tr>\n",
              "    <tr>\n",
              "      <th>1</th>\n",
              "      <td>4.9</td>\n",
              "      <td>3.0</td>\n",
              "      <td>1.4</td>\n",
              "      <td>0.2</td>\n",
              "      <td>setosa</td>\n",
              "    </tr>\n",
              "    <tr>\n",
              "      <th>2</th>\n",
              "      <td>4.7</td>\n",
              "      <td>3.2</td>\n",
              "      <td>1.3</td>\n",
              "      <td>0.2</td>\n",
              "      <td>setosa</td>\n",
              "    </tr>\n",
              "    <tr>\n",
              "      <th>3</th>\n",
              "      <td>4.6</td>\n",
              "      <td>3.1</td>\n",
              "      <td>1.5</td>\n",
              "      <td>0.2</td>\n",
              "      <td>setosa</td>\n",
              "    </tr>\n",
              "    <tr>\n",
              "      <th>4</th>\n",
              "      <td>5.0</td>\n",
              "      <td>3.6</td>\n",
              "      <td>1.4</td>\n",
              "      <td>0.2</td>\n",
              "      <td>setosa</td>\n",
              "    </tr>\n",
              "    <tr>\n",
              "      <th>...</th>\n",
              "      <td>...</td>\n",
              "      <td>...</td>\n",
              "      <td>...</td>\n",
              "      <td>...</td>\n",
              "      <td>...</td>\n",
              "    </tr>\n",
              "    <tr>\n",
              "      <th>145</th>\n",
              "      <td>6.7</td>\n",
              "      <td>3.0</td>\n",
              "      <td>5.2</td>\n",
              "      <td>2.3</td>\n",
              "      <td>virginica</td>\n",
              "    </tr>\n",
              "    <tr>\n",
              "      <th>146</th>\n",
              "      <td>6.3</td>\n",
              "      <td>2.5</td>\n",
              "      <td>5.0</td>\n",
              "      <td>1.9</td>\n",
              "      <td>virginica</td>\n",
              "    </tr>\n",
              "    <tr>\n",
              "      <th>147</th>\n",
              "      <td>6.5</td>\n",
              "      <td>3.0</td>\n",
              "      <td>5.2</td>\n",
              "      <td>2.0</td>\n",
              "      <td>virginica</td>\n",
              "    </tr>\n",
              "    <tr>\n",
              "      <th>148</th>\n",
              "      <td>6.2</td>\n",
              "      <td>3.4</td>\n",
              "      <td>5.4</td>\n",
              "      <td>2.3</td>\n",
              "      <td>virginica</td>\n",
              "    </tr>\n",
              "    <tr>\n",
              "      <th>149</th>\n",
              "      <td>5.9</td>\n",
              "      <td>3.0</td>\n",
              "      <td>5.1</td>\n",
              "      <td>1.8</td>\n",
              "      <td>virginica</td>\n",
              "    </tr>\n",
              "  </tbody>\n",
              "</table>\n",
              "<p>150 rows × 5 columns</p>\n",
              "</div>\n",
              "      <button class=\"colab-df-convert\" onclick=\"convertToInteractive('df-2ca1212b-177a-4687-8763-57874423680f')\"\n",
              "              title=\"Convert this dataframe to an interactive table.\"\n",
              "              style=\"display:none;\">\n",
              "        \n",
              "  <svg xmlns=\"http://www.w3.org/2000/svg\" height=\"24px\"viewBox=\"0 0 24 24\"\n",
              "       width=\"24px\">\n",
              "    <path d=\"M0 0h24v24H0V0z\" fill=\"none\"/>\n",
              "    <path d=\"M18.56 5.44l.94 2.06.94-2.06 2.06-.94-2.06-.94-.94-2.06-.94 2.06-2.06.94zm-11 1L8.5 8.5l.94-2.06 2.06-.94-2.06-.94L8.5 2.5l-.94 2.06-2.06.94zm10 10l.94 2.06.94-2.06 2.06-.94-2.06-.94-.94-2.06-.94 2.06-2.06.94z\"/><path d=\"M17.41 7.96l-1.37-1.37c-.4-.4-.92-.59-1.43-.59-.52 0-1.04.2-1.43.59L10.3 9.45l-7.72 7.72c-.78.78-.78 2.05 0 2.83L4 21.41c.39.39.9.59 1.41.59.51 0 1.02-.2 1.41-.59l7.78-7.78 2.81-2.81c.8-.78.8-2.07 0-2.86zM5.41 20L4 18.59l7.72-7.72 1.47 1.35L5.41 20z\"/>\n",
              "  </svg>\n",
              "      </button>\n",
              "      \n",
              "  <style>\n",
              "    .colab-df-container {\n",
              "      display:flex;\n",
              "      flex-wrap:wrap;\n",
              "      gap: 12px;\n",
              "    }\n",
              "\n",
              "    .colab-df-convert {\n",
              "      background-color: #E8F0FE;\n",
              "      border: none;\n",
              "      border-radius: 50%;\n",
              "      cursor: pointer;\n",
              "      display: none;\n",
              "      fill: #1967D2;\n",
              "      height: 32px;\n",
              "      padding: 0 0 0 0;\n",
              "      width: 32px;\n",
              "    }\n",
              "\n",
              "    .colab-df-convert:hover {\n",
              "      background-color: #E2EBFA;\n",
              "      box-shadow: 0px 1px 2px rgba(60, 64, 67, 0.3), 0px 1px 3px 1px rgba(60, 64, 67, 0.15);\n",
              "      fill: #174EA6;\n",
              "    }\n",
              "\n",
              "    [theme=dark] .colab-df-convert {\n",
              "      background-color: #3B4455;\n",
              "      fill: #D2E3FC;\n",
              "    }\n",
              "\n",
              "    [theme=dark] .colab-df-convert:hover {\n",
              "      background-color: #434B5C;\n",
              "      box-shadow: 0px 1px 3px 1px rgba(0, 0, 0, 0.15);\n",
              "      filter: drop-shadow(0px 1px 2px rgba(0, 0, 0, 0.3));\n",
              "      fill: #FFFFFF;\n",
              "    }\n",
              "  </style>\n",
              "\n",
              "      <script>\n",
              "        const buttonEl =\n",
              "          document.querySelector('#df-2ca1212b-177a-4687-8763-57874423680f button.colab-df-convert');\n",
              "        buttonEl.style.display =\n",
              "          google.colab.kernel.accessAllowed ? 'block' : 'none';\n",
              "\n",
              "        async function convertToInteractive(key) {\n",
              "          const element = document.querySelector('#df-2ca1212b-177a-4687-8763-57874423680f');\n",
              "          const dataTable =\n",
              "            await google.colab.kernel.invokeFunction('convertToInteractive',\n",
              "                                                     [key], {});\n",
              "          if (!dataTable) return;\n",
              "\n",
              "          const docLinkHtml = 'Like what you see? Visit the ' +\n",
              "            '<a target=\"_blank\" href=https://colab.research.google.com/notebooks/data_table.ipynb>data table notebook</a>'\n",
              "            + ' to learn more about interactive tables.';\n",
              "          element.innerHTML = '';\n",
              "          dataTable['output_type'] = 'display_data';\n",
              "          await google.colab.output.renderOutput(dataTable, element);\n",
              "          const docLink = document.createElement('div');\n",
              "          docLink.innerHTML = docLinkHtml;\n",
              "          element.appendChild(docLink);\n",
              "        }\n",
              "      </script>\n",
              "    </div>\n",
              "  </div>\n",
              "  "
            ]
          },
          "metadata": {},
          "execution_count": 1
        }
      ],
      "source": [
        "import seaborn as sns\n",
        "iris = sns.load_dataset('iris')\n",
        "iris"
      ]
    },
    {
      "cell_type": "code",
      "source": [
        "iris = iris[['petal_length', 'petal_width']]"
      ],
      "metadata": {
        "id": "W4mpwtfo3y_z"
      },
      "execution_count": null,
      "outputs": []
    },
    {
      "cell_type": "code",
      "source": [
        "iris = iris[['petal_length', 'petal_width']]"
      ],
      "metadata": {
        "id": "sDFUOIRG3z7a"
      },
      "execution_count": null,
      "outputs": []
    },
    {
      "cell_type": "code",
      "source": [
        "X = iris['petal_length']\n",
        "y = iris['petal_width']"
      ],
      "metadata": {
        "id": "1wdn2jT331B4"
      },
      "execution_count": null,
      "outputs": []
    },
    {
      "cell_type": "code",
      "source": [
        "import matplotlib.pyplot as plt\n",
        "plt.scatter(X, y)\n",
        "plt.xlabel(\"petal length\")\n",
        "plt.ylabel(\"petal width\")"
      ],
      "metadata": {
        "colab": {
          "base_uri": "https://localhost:8080/",
          "height": 296
        },
        "id": "ri8He9xs32F1",
        "outputId": "d3650eca-022c-4a6a-95a9-994cbe72bf3c"
      },
      "execution_count": null,
      "outputs": [
        {
          "output_type": "execute_result",
          "data": {
            "text/plain": [
              "Text(0, 0.5, 'petal width')"
            ]
          },
          "metadata": {},
          "execution_count": 5
        },
        {
          "output_type": "display_data",
          "data": {
            "text/plain": [
              "<Figure size 432x288 with 1 Axes>"
            ],
            "image/png": "[encoded data removed]"
          },
          "metadata": {
            "needs_background": "light"
          }
        }
      ]
    },
    {
      "cell_type": "code",
      "source": [
        "from sklearn.model_selection import train_test_split\n",
        "X_train, X_test, y_train, y_test = train_test_split(X, y, test_size = 0.4, random_state = 23)"
      ],
      "metadata": {
        "id": "Ct7hmEdp35zZ"
      },
      "execution_count": null,
      "outputs": []
    },
    {
      "cell_type": "code",
      "source": [
        "X_train"
      ],
      "metadata": {
        "colab": {
          "base_uri": "https://localhost:8080/"
        },
        "id": "QCtHZ0R137Tn",
        "outputId": "0714aa46-ec14-42be-e7a3-7b6e3eadc5be"
      },
      "execution_count": null,
      "outputs": [
        {
          "output_type": "execute_result",
          "data": {
            "text/plain": [
              "77     5.0\n",
              "29     1.6\n",
              "92     4.0\n",
              "23     1.7\n",
              "128    5.6\n",
              "      ... \n",
              "39     1.5\n",
              "91     4.6\n",
              "31     1.5\n",
              "40     1.3\n",
              "83     5.1\n",
              "Name: petal_length, Length: 90, dtype: float64"
            ]
          },
          "metadata": {},
          "execution_count": 7
        }
      ]
    },
    {
      "cell_type": "code",
      "source": [
        "import numpy as np\n",
        "X_train = np.array(X_train).reshape(-1, 1)\n",
        "X_train"
      ],
      "metadata": {
        "colab": {
          "base_uri": "https://localhost:8080/"
        },
        "id": "ep1BMKAy38UG",
        "outputId": "fbab7b88-ebaa-4cf4-909b-4d03fbdebf1d"
      },
      "execution_count": null,
      "outputs": [
        {
          "output_type": "execute_result",
          "data": {
            "text/plain": [
              "array([[5. ],\n",
              "       [1.6],\n",
              "       [4. ],\n",
              "       [1.7],\n",
              "       [5.6],\n",
              "       [4. ],\n",
              "       [4.8],\n",
              "       [5.6],\n",
              "       [5.1],\n",
              "       [4.9],\n",
              "       [1.4],\n",
              "       [1.6],\n",
              "       [5.6],\n",
              "       [1.4],\n",
              "       [1.6],\n",
              "       [5.5],\n",
              "       [5.1],\n",
              "       [4. ],\n",
              "       [1.4],\n",
              "       [4.1],\n",
              "       [5.3],\n",
              "       [4.5],\n",
              "       [5.8],\n",
              "       [6.6],\n",
              "       [4.3],\n",
              "       [1.3],\n",
              "       [4. ],\n",
              "       [4.9],\n",
              "       [4.9],\n",
              "       [4. ],\n",
              "       [1.5],\n",
              "       [4.5],\n",
              "       [4.5],\n",
              "       [3.9],\n",
              "       [5. ],\n",
              "       [4.8],\n",
              "       [3.8],\n",
              "       [5.1],\n",
              "       [6.3],\n",
              "       [6.1],\n",
              "       [1.2],\n",
              "       [5.7],\n",
              "       [3. ],\n",
              "       [1.5],\n",
              "       [5.9],\n",
              "       [4.8],\n",
              "       [1.4],\n",
              "       [4.5],\n",
              "       [4.2],\n",
              "       [5.2],\n",
              "       [1.3],\n",
              "       [1. ],\n",
              "       [3.5],\n",
              "       [1.1],\n",
              "       [4.7],\n",
              "       [4.2],\n",
              "       [1.2],\n",
              "       [5.8],\n",
              "       [4.3],\n",
              "       [4.5],\n",
              "       [1.6],\n",
              "       [6.9],\n",
              "       [4.6],\n",
              "       [5.1],\n",
              "       [5.6],\n",
              "       [4.7],\n",
              "       [1.5],\n",
              "       [1.6],\n",
              "       [5.5],\n",
              "       [5.8],\n",
              "       [4.4],\n",
              "       [1.3],\n",
              "       [5.2],\n",
              "       [3.3],\n",
              "       [5.7],\n",
              "       [3.5],\n",
              "       [1.3],\n",
              "       [1.5],\n",
              "       [1.5],\n",
              "       [5.1],\n",
              "       [1.4],\n",
              "       [1.4],\n",
              "       [4.9],\n",
              "       [1.4],\n",
              "       [4.4],\n",
              "       [1.5],\n",
              "       [4.6],\n",
              "       [1.5],\n",
              "       [1.3],\n",
              "       [5.1]])"
            ]
          },
          "metadata": {},
          "execution_count": 8
        }
      ]
    },
    {
      "cell_type": "code",
      "source": [
        "X_test = np.array(X_test).reshape(-1, 1)\n",
        "X_test"
      ],
      "metadata": {
        "colab": {
          "base_uri": "https://localhost:8080/"
        },
        "id": "YnQJTUYg3-CA",
        "outputId": "af5e9c8c-a3b0-4994-d20a-f61a255ce9f4"
      },
      "execution_count": null,
      "outputs": [
        {
          "output_type": "execute_result",
          "data": {
            "text/plain": [
              "array([[5.4],\n",
              "       [6. ],\n",
              "       [4.1],\n",
              "       [1.5],\n",
              "       [5. ],\n",
              "       [4.9],\n",
              "       [1.7],\n",
              "       [5.5],\n",
              "       [1.7],\n",
              "       [3.6],\n",
              "       [4.7],\n",
              "       [1.6],\n",
              "       [5.9],\n",
              "       [1.5],\n",
              "       [1.5],\n",
              "       [5.1],\n",
              "       [4.5],\n",
              "       [4.7],\n",
              "       [6.1],\n",
              "       [1.4],\n",
              "       [5.3],\n",
              "       [1.4],\n",
              "       [1.6],\n",
              "       [1.3],\n",
              "       [5.6],\n",
              "       [1.4],\n",
              "       [1.9],\n",
              "       [4.8],\n",
              "       [4.4],\n",
              "       [3.9],\n",
              "       [1.5],\n",
              "       [3.9],\n",
              "       [1.3],\n",
              "       [6.7],\n",
              "       [1.5],\n",
              "       [1.7],\n",
              "       [4.6],\n",
              "       [3.3],\n",
              "       [4.2],\n",
              "       [6. ],\n",
              "       [5.7],\n",
              "       [1.9],\n",
              "       [3.7],\n",
              "       [1.4],\n",
              "       [4.4],\n",
              "       [5. ],\n",
              "       [4.5],\n",
              "       [6.4],\n",
              "       [1.5],\n",
              "       [4.1],\n",
              "       [6.1],\n",
              "       [5.4],\n",
              "       [1.4],\n",
              "       [5.6],\n",
              "       [4.5],\n",
              "       [4.7],\n",
              "       [6.7],\n",
              "       [4.2],\n",
              "       [1.4],\n",
              "       [5.1]])"
            ]
          },
          "metadata": {},
          "execution_count": 9
        }
      ]
    },
    {
      "cell_type": "code",
      "source": [
        "from sklearn.linear_model import LinearRegression"
      ],
      "metadata": {
        "id": "BHTwFZrr3_tk"
      },
      "execution_count": null,
      "outputs": []
    },
    {
      "cell_type": "code",
      "source": [
        "lr = LinearRegression()"
      ],
      "metadata": {
        "id": "TuJVuVf34AwM"
      },
      "execution_count": null,
      "outputs": []
    },
    {
      "cell_type": "code",
      "source": [
        "lr.fit(X_train, y_train)"
      ],
      "metadata": {
        "colab": {
          "base_uri": "https://localhost:8080/"
        },
        "id": "ogbnZmyt4Bux",
        "outputId": "ad079b4f-b851-4a1f-db92-d019a9bf0ad9"
      },
      "execution_count": null,
      "outputs": [
        {
          "output_type": "execute_result",
          "data": {
            "text/plain": [
              "LinearRegression()"
            ]
          },
          "metadata": {},
          "execution_count": 12
        }
      ]
    },
    {
      "cell_type": "code",
      "source": [
        "c = lr.intercept_\n",
        "c"
      ],
      "metadata": {
        "colab": {
          "base_uri": "https://localhost:8080/"
        },
        "id": "BOZ1jIBC4Cuz",
        "outputId": "c838a226-788a-48c9-d2b2-65b66373d209"
      },
      "execution_count": null,
      "outputs": [
        {
          "output_type": "execute_result",
          "data": {
            "text/plain": [
              "-0.3511327422143746"
            ]
          },
          "metadata": {},
          "execution_count": 13
        }
      ]
    },
    {
      "cell_type": "code",
      "source": [
        "m = lr.coef_\n",
        "m"
      ],
      "metadata": {
        "colab": {
          "base_uri": "https://localhost:8080/"
        },
        "id": "nydRfJLr4D9f",
        "outputId": "10b77327-7c05-4565-c4e0-ab4c63b27389"
      },
      "execution_count": null,
      "outputs": [
        {
          "output_type": "execute_result",
          "data": {
            "text/plain": [
              "array([0.41684538])"
            ]
          },
          "metadata": {},
          "execution_count": 14
        }
      ]
    },
    {
      "cell_type": "code",
      "source": [
        "Y_pred_train = m*X_train + c\n",
        "Y_pred_train.flatten()"
      ],
      "metadata": {
        "colab": {
          "base_uri": "https://localhost:8080/"
        },
        "id": "U5ZrC2PO4FKw",
        "outputId": "87d83b9c-bf4d-470e-826f-d2f93dc7c44a"
      },
      "execution_count": null,
      "outputs": [
        {
          "output_type": "execute_result",
          "data": {
            "text/plain": [
              "array([1.73309416, 0.31581987, 1.31624878, 0.3575044 , 1.98320139,\n",
              "       1.31624878, 1.64972508, 1.98320139, 1.7747787 , 1.69140962,\n",
              "       0.23245079, 0.31581987, 1.98320139, 0.23245079, 0.31581987,\n",
              "       1.94151685, 1.7747787 , 1.31624878, 0.23245079, 1.35793332,\n",
              "       1.85814777, 1.52467147, 2.06657046, 2.40004677, 1.44130239,\n",
              "       0.19076625, 1.31624878, 1.69140962, 1.69140962, 1.31624878,\n",
              "       0.27413533, 1.52467147, 1.52467147, 1.27456424, 1.73309416,\n",
              "       1.64972508, 1.2328797 , 1.7747787 , 2.27499315, 2.19162408,\n",
              "       0.14908171, 2.02488593, 0.8994034 , 0.27413533, 2.108255  ,\n",
              "       1.64972508, 0.23245079, 1.52467147, 1.39961786, 1.81646324,\n",
              "       0.19076625, 0.06571264, 1.10782609, 0.10739718, 1.60804055,\n",
              "       1.39961786, 0.14908171, 2.06657046, 1.44130239, 1.52467147,\n",
              "       0.31581987, 2.52510038, 1.56635601, 1.7747787 , 1.98320139,\n",
              "       1.60804055, 0.27413533, 0.31581987, 1.94151685, 2.06657046,\n",
              "       1.48298693, 0.19076625, 1.81646324, 1.02445701, 2.02488593,\n",
              "       1.10782609, 0.19076625, 0.27413533, 0.27413533, 1.7747787 ,\n",
              "       0.23245079, 0.23245079, 1.69140962, 0.23245079, 1.48298693,\n",
              "       0.27413533, 1.56635601, 0.27413533, 0.19076625, 1.7747787 ])"
            ]
          },
          "metadata": {},
          "execution_count": 15
        }
      ]
    },
    {
      "cell_type": "code",
      "source": [
        "y_pred_train1 = lr.predict(X_train)\n",
        "y_pred_train1"
      ],
      "metadata": {
        "colab": {
          "base_uri": "https://localhost:8080/"
        },
        "id": "fb3Jr8qP4GU7",
        "outputId": "5d23a24d-3b0d-4289-992f-33aec9eabdb1"
      },
      "execution_count": null,
      "outputs": [
        {
          "output_type": "execute_result",
          "data": {
            "text/plain": [
              "array([1.73309416, 0.31581987, 1.31624878, 0.3575044 , 1.98320139,\n",
              "       1.31624878, 1.64972508, 1.98320139, 1.7747787 , 1.69140962,\n",
              "       0.23245079, 0.31581987, 1.98320139, 0.23245079, 0.31581987,\n",
              "       1.94151685, 1.7747787 , 1.31624878, 0.23245079, 1.35793332,\n",
              "       1.85814777, 1.52467147, 2.06657046, 2.40004677, 1.44130239,\n",
              "       0.19076625, 1.31624878, 1.69140962, 1.69140962, 1.31624878,\n",
              "       0.27413533, 1.52467147, 1.52467147, 1.27456424, 1.73309416,\n",
              "       1.64972508, 1.2328797 , 1.7747787 , 2.27499315, 2.19162408,\n",
              "       0.14908171, 2.02488593, 0.8994034 , 0.27413533, 2.108255  ,\n",
              "       1.64972508, 0.23245079, 1.52467147, 1.39961786, 1.81646324,\n",
              "       0.19076625, 0.06571264, 1.10782609, 0.10739718, 1.60804055,\n",
              "       1.39961786, 0.14908171, 2.06657046, 1.44130239, 1.52467147,\n",
              "       0.31581987, 2.52510038, 1.56635601, 1.7747787 , 1.98320139,\n",
              "       1.60804055, 0.27413533, 0.31581987, 1.94151685, 2.06657046,\n",
              "       1.48298693, 0.19076625, 1.81646324, 1.02445701, 2.02488593,\n",
              "       1.10782609, 0.19076625, 0.27413533, 0.27413533, 1.7747787 ,\n",
              "       0.23245079, 0.23245079, 1.69140962, 0.23245079, 1.48298693,\n",
              "       0.27413533, 1.56635601, 0.27413533, 0.19076625, 1.7747787 ])"
            ]
          },
          "metadata": {},
          "execution_count": 16
        }
      ]
    },
    {
      "cell_type": "code",
      "source": [
        "import matplotlib.pyplot as plt\n",
        "plt.scatter(X_train, y_train)\n",
        "plt.plot(X_train, y_pred_train1, color ='red')\n",
        "plt.xlabel(\"petal length\")\n",
        "plt.ylabel(\"petal width\")\n"
      ],
      "metadata": {
        "colab": {
          "base_uri": "https://localhost:8080/",
          "height": 296
        },
        "id": "o7ukfvJC4HrW",
        "outputId": "5a4401ac-fdde-4709-f830-363a7fbd9ffe"
      },
      "execution_count": null,
      "outputs": [
        {
          "output_type": "execute_result",
          "data": {
            "text/plain": [
              "Text(0, 0.5, 'petal width')"
            ]
          },
          "metadata": {},
          "execution_count": 17
        },
        {
          "output_type": "display_data",
          "data": {
            "text/plain": [
              "<Figure size 432x288 with 1 Axes>"
            ],
            "image/png": "[encoded data removed]"
          },
          "metadata": {
            "needs_background": "light"
          }
        }
      ]
    },
    {
      "cell_type": "code",
      "source": [
        "y_pred_test1 = lr.predict(X_test)\n",
        "y_pred_test1"
      ],
      "metadata": {
        "colab": {
          "base_uri": "https://localhost:8080/"
        },
        "id": "vPGB6Lac4I38",
        "outputId": "608d472b-20cd-4f83-f16a-dc97a01f4ce8"
      },
      "execution_count": null,
      "outputs": [
        {
          "output_type": "execute_result",
          "data": {
            "text/plain": [
              "array([1.89983231, 2.14993954, 1.35793332, 0.27413533, 1.73309416,\n",
              "       1.69140962, 0.3575044 , 1.94151685, 0.3575044 , 1.14951063,\n",
              "       1.60804055, 0.31581987, 2.108255  , 0.27413533, 0.27413533,\n",
              "       1.7747787 , 1.52467147, 1.60804055, 2.19162408, 0.23245079,\n",
              "       1.85814777, 0.23245079, 0.31581987, 0.19076625, 1.98320139,\n",
              "       0.23245079, 0.44087348, 1.64972508, 1.48298693, 1.27456424,\n",
              "       0.27413533, 1.27456424, 0.19076625, 2.44173131, 0.27413533,\n",
              "       0.3575044 , 1.56635601, 1.02445701, 1.39961786, 2.14993954,\n",
              "       2.02488593, 0.44087348, 1.19119517, 0.23245079, 1.48298693,\n",
              "       1.73309416, 1.52467147, 2.31667769, 0.27413533, 1.35793332,\n",
              "       2.19162408, 1.89983231, 0.23245079, 1.98320139, 1.52467147,\n",
              "       1.60804055, 2.44173131, 1.39961786, 0.23245079, 1.7747787 ])"
            ]
          },
          "metadata": {},
          "execution_count": 18
        }
      ]
    },
    {
      "cell_type": "code",
      "source": [
        "import matplotlib.pyplot as plt\n",
        "plt.scatter(X_test, y_test)\n",
        "plt.plot(X_test, y_pred_test1, color ='red')\n",
        "plt.xlabel(\"petal length\")\n",
        "plt.ylabel(\"petal width\")"
      ],
      "metadata": {
        "colab": {
          "base_uri": "https://localhost:8080/",
          "height": 296
        },
        "id": "FsSF5wQN4KHC",
        "outputId": "49a0e57e-7eac-41fd-88ba-b0c61b636de3"
      },
      "execution_count": null,
      "outputs": [
        {
          "output_type": "execute_result",
          "data": {
            "text/plain": [
              "Text(0, 0.5, 'petal width')"
            ]
          },
          "metadata": {},
          "execution_count": 19
        },
        {
          "output_type": "display_data",
          "data": {
            "text/plain": [
              "<Figure size 432x288 with 1 Axes>"
            ],
            "image/png": "[encoded data removed]"
          },
          "metadata": {
            "needs_background": "light"
          }
        }
      ]
    }
  ]
}